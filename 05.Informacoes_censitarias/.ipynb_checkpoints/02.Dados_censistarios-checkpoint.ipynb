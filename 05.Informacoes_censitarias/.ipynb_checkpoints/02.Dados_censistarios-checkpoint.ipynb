{
 "cells": [
  {
   "cell_type": "markdown",
   "metadata": {},
   "source": [
    "# Dados censitários"
   ]
  },
  {
   "cell_type": "markdown",
   "metadata": {},
   "source": [
    "## Fonte de dados"
   ]
  },
  {
   "cell_type": "markdown",
   "metadata": {},
   "source": [
    "ftp://ftp.ibge.gov.br/Censos/Censo_Demografico_2010/Resultados_do_Universo."
   ]
  },
  {
   "cell_type": "code",
   "execution_count": 1,
   "metadata": {},
   "outputs": [],
   "source": [
    "import pandas as pd\n",
    "import geopandas as gpd"
   ]
  },
  {
   "cell_type": "markdown",
   "metadata": {},
   "source": [
    "# Carregando os dados"
   ]
  },
  {
   "cell_type": "code",
   "execution_count": 6,
   "metadata": {},
   "outputs": [
    {
     "data": {
      "text/html": [
       "<div>\n",
       "<style scoped>\n",
       "    .dataframe tbody tr th:only-of-type {\n",
       "        vertical-align: middle;\n",
       "    }\n",
       "\n",
       "    .dataframe tbody tr th {\n",
       "        vertical-align: top;\n",
       "    }\n",
       "\n",
       "    .dataframe thead th {\n",
       "        text-align: right;\n",
       "    }\n",
       "</style>\n",
       "<table border=\"1\" class=\"dataframe\">\n",
       "  <thead>\n",
       "    <tr style=\"text-align: right;\">\n",
       "      <th></th>\n",
       "      <th>Cod_setor</th>\n",
       "      <th>Cod_Grandes Regiões</th>\n",
       "      <th>Nome_Grande_Regiao</th>\n",
       "      <th>Cod_UF</th>\n",
       "      <th>Nome_da_UF</th>\n",
       "      <th>Cod_meso</th>\n",
       "      <th>Nome_da_meso</th>\n",
       "      <th>Cod_micro</th>\n",
       "      <th>Nome_da_micro</th>\n",
       "      <th>Cod_RM</th>\n",
       "      <th>...</th>\n",
       "      <th>V003</th>\n",
       "      <th>V004</th>\n",
       "      <th>V005</th>\n",
       "      <th>V006</th>\n",
       "      <th>V007</th>\n",
       "      <th>V008</th>\n",
       "      <th>V009</th>\n",
       "      <th>V010</th>\n",
       "      <th>V011</th>\n",
       "      <th>V012</th>\n",
       "    </tr>\n",
       "  </thead>\n",
       "  <tbody>\n",
       "    <tr>\n",
       "      <th>0</th>\n",
       "      <td>330010005000001</td>\n",
       "      <td>3</td>\n",
       "      <td>Região Sudeste</td>\n",
       "      <td>RJ</td>\n",
       "      <td>Rio de Janeiro</td>\n",
       "      <td>3305</td>\n",
       "      <td>Sul Fluminense</td>\n",
       "      <td>33013</td>\n",
       "      <td>Baía da Ilha Grande</td>\n",
       "      <td>0</td>\n",
       "      <td>...</td>\n",
       "      <td>2.62</td>\n",
       "      <td>1.94</td>\n",
       "      <td>2356.80</td>\n",
       "      <td>5716056.06</td>\n",
       "      <td>2571.06</td>\n",
       "      <td>5684616.94</td>\n",
       "      <td>1565.37</td>\n",
       "      <td>4344465.56</td>\n",
       "      <td>2192.65</td>\n",
       "      <td>4711305.89</td>\n",
       "    </tr>\n",
       "    <tr>\n",
       "      <th>1</th>\n",
       "      <td>330010005000002</td>\n",
       "      <td>3</td>\n",
       "      <td>Região Sudeste</td>\n",
       "      <td>RJ</td>\n",
       "      <td>Rio de Janeiro</td>\n",
       "      <td>3305</td>\n",
       "      <td>Sul Fluminense</td>\n",
       "      <td>33013</td>\n",
       "      <td>Baía da Ilha Grande</td>\n",
       "      <td>0</td>\n",
       "      <td>...</td>\n",
       "      <td>2.51</td>\n",
       "      <td>1.50</td>\n",
       "      <td>2040.47</td>\n",
       "      <td>3020377.79</td>\n",
       "      <td>2236.67</td>\n",
       "      <td>2869054.77</td>\n",
       "      <td>1816.69</td>\n",
       "      <td>20052928.88</td>\n",
       "      <td>2375.67</td>\n",
       "      <td>24942113.99</td>\n",
       "    </tr>\n",
       "    <tr>\n",
       "      <th>2</th>\n",
       "      <td>330010005000003</td>\n",
       "      <td>3</td>\n",
       "      <td>Região Sudeste</td>\n",
       "      <td>RJ</td>\n",
       "      <td>Rio de Janeiro</td>\n",
       "      <td>3305</td>\n",
       "      <td>Sul Fluminense</td>\n",
       "      <td>33013</td>\n",
       "      <td>Baía da Ilha Grande</td>\n",
       "      <td>0</td>\n",
       "      <td>...</td>\n",
       "      <td>3.08</td>\n",
       "      <td>2.19</td>\n",
       "      <td>2687.80</td>\n",
       "      <td>8362007.52</td>\n",
       "      <td>2836.66</td>\n",
       "      <td>8402987.99</td>\n",
       "      <td>1593.37</td>\n",
       "      <td>7250920.66</td>\n",
       "      <td>2294.84</td>\n",
       "      <td>8835722.10</td>\n",
       "    </tr>\n",
       "    <tr>\n",
       "      <th>3</th>\n",
       "      <td>330010005000004</td>\n",
       "      <td>3</td>\n",
       "      <td>Região Sudeste</td>\n",
       "      <td>RJ</td>\n",
       "      <td>Rio de Janeiro</td>\n",
       "      <td>3305</td>\n",
       "      <td>Sul Fluminense</td>\n",
       "      <td>33013</td>\n",
       "      <td>Baía da Ilha Grande</td>\n",
       "      <td>0</td>\n",
       "      <td>...</td>\n",
       "      <td>3.04</td>\n",
       "      <td>3.25</td>\n",
       "      <td>3026.67</td>\n",
       "      <td>24807309.86</td>\n",
       "      <td>3352.62</td>\n",
       "      <td>26410753.99</td>\n",
       "      <td>1865.52</td>\n",
       "      <td>10994097.59</td>\n",
       "      <td>2574.41</td>\n",
       "      <td>13362652.63</td>\n",
       "    </tr>\n",
       "    <tr>\n",
       "      <th>4</th>\n",
       "      <td>330010005000005</td>\n",
       "      <td>3</td>\n",
       "      <td>Região Sudeste</td>\n",
       "      <td>RJ</td>\n",
       "      <td>Rio de Janeiro</td>\n",
       "      <td>3305</td>\n",
       "      <td>Sul Fluminense</td>\n",
       "      <td>33013</td>\n",
       "      <td>Baía da Ilha Grande</td>\n",
       "      <td>0</td>\n",
       "      <td>...</td>\n",
       "      <td>3.34</td>\n",
       "      <td>1.94</td>\n",
       "      <td>1124.82</td>\n",
       "      <td>712447.24</td>\n",
       "      <td>1229.19</td>\n",
       "      <td>649944.69</td>\n",
       "      <td>689.40</td>\n",
       "      <td>583588.50</td>\n",
       "      <td>1028.21</td>\n",
       "      <td>521878.03</td>\n",
       "    </tr>\n",
       "  </tbody>\n",
       "</table>\n",
       "<p>5 rows × 33 columns</p>\n",
       "</div>"
      ],
      "text/plain": [
       "         Cod_setor  Cod_Grandes Regiões Nome_Grande_Regiao Cod_UF  \\\n",
       "0  330010005000001                    3     Região Sudeste     RJ   \n",
       "1  330010005000002                    3     Região Sudeste     RJ   \n",
       "2  330010005000003                    3     Região Sudeste     RJ   \n",
       "3  330010005000004                    3     Região Sudeste     RJ   \n",
       "4  330010005000005                    3     Região Sudeste     RJ   \n",
       "\n",
       "      Nome_da_UF   Cod_meso    Nome_da_meso  Cod_micro        Nome_da_micro  \\\n",
       "0  Rio de Janeiro      3305  Sul Fluminense      33013  Baía da Ilha Grande   \n",
       "1  Rio de Janeiro      3305  Sul Fluminense      33013  Baía da Ilha Grande   \n",
       "2  Rio de Janeiro      3305  Sul Fluminense      33013  Baía da Ilha Grande   \n",
       "3  Rio de Janeiro      3305  Sul Fluminense      33013  Baía da Ilha Grande   \n",
       "4  Rio de Janeiro      3305  Sul Fluminense      33013  Baía da Ilha Grande   \n",
       "\n",
       "   Cod_RM  ...  V003  V004     V005         V006     V007         V008  \\\n",
       "0       0  ...  2.62  1.94  2356.80   5716056.06  2571.06   5684616.94   \n",
       "1       0  ...  2.51  1.50  2040.47   3020377.79  2236.67   2869054.77   \n",
       "2       0  ...  3.08  2.19  2687.80   8362007.52  2836.66   8402987.99   \n",
       "3       0  ...  3.04  3.25  3026.67  24807309.86  3352.62  26410753.99   \n",
       "4       0  ...  3.34  1.94  1124.82    712447.24  1229.19    649944.69   \n",
       "\n",
       "      V009         V010     V011         V012  \n",
       "0  1565.37   4344465.56  2192.65   4711305.89  \n",
       "1  1816.69  20052928.88  2375.67  24942113.99  \n",
       "2  1593.37   7250920.66  2294.84   8835722.10  \n",
       "3  1865.52  10994097.59  2574.41  13362652.63  \n",
       "4   689.40    583588.50  1028.21    521878.03  \n",
       "\n",
       "[5 rows x 33 columns]"
      ]
     },
     "execution_count": 6,
     "metadata": {},
     "output_type": "execute_result"
    }
   ],
   "source": [
    "censo = pd.read_excel('../01.Dados/Censo 2010/RJ/EXCEL/Basico_RJ.xls')\n",
    "censo.head()"
   ]
  },
  {
   "cell_type": "code",
   "execution_count": 8,
   "metadata": {},
   "outputs": [
    {
     "data": {
      "text/html": [
       "<div>\n",
       "<style scoped>\n",
       "    .dataframe tbody tr th:only-of-type {\n",
       "        vertical-align: middle;\n",
       "    }\n",
       "\n",
       "    .dataframe tbody tr th {\n",
       "        vertical-align: top;\n",
       "    }\n",
       "\n",
       "    .dataframe thead th {\n",
       "        text-align: right;\n",
       "    }\n",
       "</style>\n",
       "<table border=\"1\" class=\"dataframe\">\n",
       "  <thead>\n",
       "    <tr style=\"text-align: right;\">\n",
       "      <th></th>\n",
       "      <th>ID1</th>\n",
       "      <th>CD_GEOCODI</th>\n",
       "      <th>TIPO</th>\n",
       "      <th>CD_GEOCODB</th>\n",
       "      <th>NM_BAIRRO</th>\n",
       "      <th>CD_GEOCODD</th>\n",
       "      <th>NM_DISTRIT</th>\n",
       "      <th>CD_GEOCODS</th>\n",
       "      <th>NM_SUBDIST</th>\n",
       "      <th>CD_GEOCODM</th>\n",
       "      <th>NM_MUNICIP</th>\n",
       "      <th>NM_MESO</th>\n",
       "      <th>NM_MICRO</th>\n",
       "      <th>geometry</th>\n",
       "    </tr>\n",
       "  </thead>\n",
       "  <tbody>\n",
       "    <tr>\n",
       "      <th>0</th>\n",
       "      <td>408153</td>\n",
       "      <td>330455705250108</td>\n",
       "      <td>URBANO</td>\n",
       "      <td>330455705117</td>\n",
       "      <td>Jardim Guanabara</td>\n",
       "      <td>330455705</td>\n",
       "      <td>RIO DE JANEIRO</td>\n",
       "      <td>330455705</td>\n",
       "      <td>ILHA DO GOVERNADOR</td>\n",
       "      <td>3304557</td>\n",
       "      <td>RIO DE JANEIRO</td>\n",
       "      <td>METROPOLITANA DO RIO DE JANEIRO</td>\n",
       "      <td>RIO DE JANEIRO</td>\n",
       "      <td>POLYGON ((685.459 7475.551, 685.429 7475.557, ...</td>\n",
       "    </tr>\n",
       "    <tr>\n",
       "      <th>1</th>\n",
       "      <td>408157</td>\n",
       "      <td>330455705250112</td>\n",
       "      <td>URBANO</td>\n",
       "      <td>330455705117</td>\n",
       "      <td>Jardim Guanabara</td>\n",
       "      <td>330455705</td>\n",
       "      <td>RIO DE JANEIRO</td>\n",
       "      <td>330455705</td>\n",
       "      <td>ILHA DO GOVERNADOR</td>\n",
       "      <td>3304557</td>\n",
       "      <td>RIO DE JANEIRO</td>\n",
       "      <td>METROPOLITANA DO RIO DE JANEIRO</td>\n",
       "      <td>RIO DE JANEIRO</td>\n",
       "      <td>POLYGON ((685.019 7475.930, 685.045 7475.924, ...</td>\n",
       "    </tr>\n",
       "    <tr>\n",
       "      <th>2</th>\n",
       "      <td>408158</td>\n",
       "      <td>330455705250113</td>\n",
       "      <td>URBANO</td>\n",
       "      <td>330455705117</td>\n",
       "      <td>Jardim Guanabara</td>\n",
       "      <td>330455705</td>\n",
       "      <td>RIO DE JANEIRO</td>\n",
       "      <td>330455705</td>\n",
       "      <td>ILHA DO GOVERNADOR</td>\n",
       "      <td>3304557</td>\n",
       "      <td>RIO DE JANEIRO</td>\n",
       "      <td>METROPOLITANA DO RIO DE JANEIRO</td>\n",
       "      <td>RIO DE JANEIRO</td>\n",
       "      <td>POLYGON ((684.902 7475.511, 684.905 7475.484, ...</td>\n",
       "    </tr>\n",
       "    <tr>\n",
       "      <th>3</th>\n",
       "      <td>408149</td>\n",
       "      <td>330455705250104</td>\n",
       "      <td>URBANO</td>\n",
       "      <td>330455705117</td>\n",
       "      <td>Jardim Guanabara</td>\n",
       "      <td>330455705</td>\n",
       "      <td>RIO DE JANEIRO</td>\n",
       "      <td>330455705</td>\n",
       "      <td>ILHA DO GOVERNADOR</td>\n",
       "      <td>3304557</td>\n",
       "      <td>RIO DE JANEIRO</td>\n",
       "      <td>METROPOLITANA DO RIO DE JANEIRO</td>\n",
       "      <td>RIO DE JANEIRO</td>\n",
       "      <td>POLYGON ((684.906 7476.317, 684.903 7476.329, ...</td>\n",
       "    </tr>\n",
       "    <tr>\n",
       "      <th>4</th>\n",
       "      <td>408150</td>\n",
       "      <td>330455705250105</td>\n",
       "      <td>URBANO</td>\n",
       "      <td>330455705117</td>\n",
       "      <td>Jardim Guanabara</td>\n",
       "      <td>330455705</td>\n",
       "      <td>RIO DE JANEIRO</td>\n",
       "      <td>330455705</td>\n",
       "      <td>ILHA DO GOVERNADOR</td>\n",
       "      <td>3304557</td>\n",
       "      <td>RIO DE JANEIRO</td>\n",
       "      <td>METROPOLITANA DO RIO DE JANEIRO</td>\n",
       "      <td>RIO DE JANEIRO</td>\n",
       "      <td>POLYGON ((685.055 7476.375, 685.044 7476.357, ...</td>\n",
       "    </tr>\n",
       "  </tbody>\n",
       "</table>\n",
       "</div>"
      ],
      "text/plain": [
       "      ID1       CD_GEOCODI    TIPO    CD_GEOCODB         NM_BAIRRO CD_GEOCODD  \\\n",
       "0  408153  330455705250108  URBANO  330455705117  Jardim Guanabara  330455705   \n",
       "1  408157  330455705250112  URBANO  330455705117  Jardim Guanabara  330455705   \n",
       "2  408158  330455705250113  URBANO  330455705117  Jardim Guanabara  330455705   \n",
       "3  408149  330455705250104  URBANO  330455705117  Jardim Guanabara  330455705   \n",
       "4  408150  330455705250105  URBANO  330455705117  Jardim Guanabara  330455705   \n",
       "\n",
       "       NM_DISTRIT CD_GEOCODS          NM_SUBDIST CD_GEOCODM      NM_MUNICIP  \\\n",
       "0  RIO DE JANEIRO  330455705  ILHA DO GOVERNADOR    3304557  RIO DE JANEIRO   \n",
       "1  RIO DE JANEIRO  330455705  ILHA DO GOVERNADOR    3304557  RIO DE JANEIRO   \n",
       "2  RIO DE JANEIRO  330455705  ILHA DO GOVERNADOR    3304557  RIO DE JANEIRO   \n",
       "3  RIO DE JANEIRO  330455705  ILHA DO GOVERNADOR    3304557  RIO DE JANEIRO   \n",
       "4  RIO DE JANEIRO  330455705  ILHA DO GOVERNADOR    3304557  RIO DE JANEIRO   \n",
       "\n",
       "                           NM_MESO        NM_MICRO  \\\n",
       "0  METROPOLITANA DO RIO DE JANEIRO  RIO DE JANEIRO   \n",
       "1  METROPOLITANA DO RIO DE JANEIRO  RIO DE JANEIRO   \n",
       "2  METROPOLITANA DO RIO DE JANEIRO  RIO DE JANEIRO   \n",
       "3  METROPOLITANA DO RIO DE JANEIRO  RIO DE JANEIRO   \n",
       "4  METROPOLITANA DO RIO DE JANEIRO  RIO DE JANEIRO   \n",
       "\n",
       "                                            geometry  \n",
       "0  POLYGON ((685.459 7475.551, 685.429 7475.557, ...  \n",
       "1  POLYGON ((685.019 7475.930, 685.045 7475.924, ...  \n",
       "2  POLYGON ((684.902 7475.511, 684.905 7475.484, ...  \n",
       "3  POLYGON ((684.906 7476.317, 684.903 7476.329, ...  \n",
       "4  POLYGON ((685.055 7476.375, 685.044 7476.357, ...  "
      ]
     },
     "execution_count": 8,
     "metadata": {},
     "output_type": "execute_result"
    }
   ],
   "source": [
    "setor = gpd.read_file('../01.Dados/Mapas/RJ-SETOR/RJ-SETOR.shp')\n",
    "setor.head()"
   ]
  },
  {
   "cell_type": "markdown",
   "metadata": {},
   "source": [
    "# Verificando os tipo de dados de cada coluna"
   ]
  },
  {
   "cell_type": "code",
   "execution_count": 9,
   "metadata": {},
   "outputs": [
    {
     "data": {
      "text/plain": [
       "Cod_setor                int64\n",
       "Cod_Grandes Regiões      int64\n",
       "Nome_Grande_Regiao      object\n",
       "Cod_UF                  object\n",
       "Nome_da_UF              object\n",
       "Cod_meso                 int64\n",
       "Nome_da_meso            object\n",
       "Cod_micro                int64\n",
       "Nome_da_micro           object\n",
       "Cod_RM                   int64\n",
       "Nome_da_RM              object\n",
       "Cod_municipio            int64\n",
       "Nome_do_municipio       object\n",
       "Cod_distrito             int64\n",
       "Nome_do_distrito        object\n",
       "Cod_subdistrito          int64\n",
       "Nome_do_subdistrito     object\n",
       "Cod_bairro               int64\n",
       "Nome_do_bairro          object\n",
       "Situacao_setor           int64\n",
       "Tipo_setor               int64\n",
       "V001                   float64\n",
       "V002                   float64\n",
       "V003                   float64\n",
       "V004                   float64\n",
       "V005                   float64\n",
       "V006                   float64\n",
       "V007                   float64\n",
       "V008                   float64\n",
       "V009                   float64\n",
       "V010                   float64\n",
       "V011                   float64\n",
       "V012                   float64\n",
       "dtype: object"
      ]
     },
     "execution_count": 9,
     "metadata": {},
     "output_type": "execute_result"
    }
   ],
   "source": [
    "censo.dtypes"
   ]
  },
  {
   "cell_type": "code",
   "execution_count": 10,
   "metadata": {},
   "outputs": [
    {
     "data": {
      "text/plain": [
       "ID1              int64\n",
       "CD_GEOCODI      object\n",
       "TIPO            object\n",
       "CD_GEOCODB      object\n",
       "NM_BAIRRO       object\n",
       "CD_GEOCODD      object\n",
       "NM_DISTRIT      object\n",
       "CD_GEOCODS      object\n",
       "NM_SUBDIST      object\n",
       "CD_GEOCODM      object\n",
       "NM_MUNICIP      object\n",
       "NM_MESO         object\n",
       "NM_MICRO        object\n",
       "geometry      geometry\n",
       "dtype: object"
      ]
     },
     "execution_count": 10,
     "metadata": {},
     "output_type": "execute_result"
    }
   ],
   "source": [
    "setor.dtypes"
   ]
  },
  {
   "cell_type": "code",
   "execution_count": 13,
   "metadata": {},
   "outputs": [
    {
     "data": {
      "text/plain": [
       "Cod_setor               object\n",
       "Cod_Grandes Regiões      int64\n",
       "Nome_Grande_Regiao      object\n",
       "Cod_UF                  object\n",
       "Nome_da_UF              object\n",
       "Cod_meso                 int64\n",
       "Nome_da_meso            object\n",
       "Cod_micro                int64\n",
       "Nome_da_micro           object\n",
       "Cod_RM                   int64\n",
       "Nome_da_RM              object\n",
       "Cod_municipio            int64\n",
       "Nome_do_municipio       object\n",
       "Cod_distrito             int64\n",
       "Nome_do_distrito        object\n",
       "Cod_subdistrito          int64\n",
       "Nome_do_subdistrito     object\n",
       "Cod_bairro               int64\n",
       "Nome_do_bairro          object\n",
       "Situacao_setor           int64\n",
       "Tipo_setor               int64\n",
       "V001                   float64\n",
       "V002                   float64\n",
       "V003                   float64\n",
       "V004                   float64\n",
       "V005                   float64\n",
       "V006                   float64\n",
       "V007                   float64\n",
       "V008                   float64\n",
       "V009                   float64\n",
       "V010                   float64\n",
       "V011                   float64\n",
       "V012                   float64\n",
       "dtype: object"
      ]
     },
     "execution_count": 13,
     "metadata": {},
     "output_type": "execute_result"
    }
   ],
   "source": [
    "# Modificando o tipo de dados do 'Cod_setor'\n",
    "censo['Cod_setor'] = censo['Cod_setor'].astype(str)\n",
    "censo.dtypes"
   ]
  },
  {
   "cell_type": "code",
   "execution_count": 15,
   "metadata": {},
   "outputs": [
    {
     "name": "stdout",
     "output_type": "stream",
     "text": [
      "<class 'pandas.core.frame.DataFrame'>\n",
      "<class 'geopandas.geodataframe.GeoDataFrame'>\n"
     ]
    }
   ],
   "source": [
    "print(type(censo))\n",
    "print(type(setor))"
   ]
  },
  {
   "cell_type": "code",
   "execution_count": 16,
   "metadata": {},
   "outputs": [
    {
     "data": {
      "text/plain": [
       "(10504, 14)"
      ]
     },
     "execution_count": 16,
     "metadata": {},
     "output_type": "execute_result"
    }
   ],
   "source": [
    "setor.shape"
   ]
  },
  {
   "cell_type": "markdown",
   "metadata": {},
   "source": [
    "# Juntando as duas bases de dados com referência na coluna 'Cod_setor'"
   ]
  },
  {
   "cell_type": "code",
   "execution_count": 17,
   "metadata": {},
   "outputs": [],
   "source": [
    "setor = pd.merge(setor, censo, left_on='CD_GEOCODI',right_on='Cod_setor', how='left')"
   ]
  },
  {
   "cell_type": "code",
   "execution_count": 18,
   "metadata": {},
   "outputs": [
    {
     "data": {
      "text/plain": [
       "(10504, 47)"
      ]
     },
     "execution_count": 18,
     "metadata": {},
     "output_type": "execute_result"
    }
   ],
   "source": [
    "setor.shape"
   ]
  },
  {
   "cell_type": "code",
   "execution_count": 20,
   "metadata": {},
   "outputs": [
    {
     "data": {
      "text/html": [
       "<div>\n",
       "<style scoped>\n",
       "    .dataframe tbody tr th:only-of-type {\n",
       "        vertical-align: middle;\n",
       "    }\n",
       "\n",
       "    .dataframe tbody tr th {\n",
       "        vertical-align: top;\n",
       "    }\n",
       "\n",
       "    .dataframe thead th {\n",
       "        text-align: right;\n",
       "    }\n",
       "</style>\n",
       "<table border=\"1\" class=\"dataframe\">\n",
       "  <thead>\n",
       "    <tr style=\"text-align: right;\">\n",
       "      <th></th>\n",
       "      <th>ID1</th>\n",
       "      <th>CD_GEOCODI</th>\n",
       "      <th>TIPO</th>\n",
       "      <th>CD_GEOCODB</th>\n",
       "      <th>NM_BAIRRO</th>\n",
       "      <th>CD_GEOCODD</th>\n",
       "      <th>NM_DISTRIT</th>\n",
       "      <th>CD_GEOCODS</th>\n",
       "      <th>NM_SUBDIST</th>\n",
       "      <th>CD_GEOCODM</th>\n",
       "      <th>...</th>\n",
       "      <th>V003</th>\n",
       "      <th>V004</th>\n",
       "      <th>V005</th>\n",
       "      <th>V006</th>\n",
       "      <th>V007</th>\n",
       "      <th>V008</th>\n",
       "      <th>V009</th>\n",
       "      <th>V010</th>\n",
       "      <th>V011</th>\n",
       "      <th>V012</th>\n",
       "    </tr>\n",
       "  </thead>\n",
       "  <tbody>\n",
       "    <tr>\n",
       "      <th>0</th>\n",
       "      <td>408153</td>\n",
       "      <td>330455705250108</td>\n",
       "      <td>URBANO</td>\n",
       "      <td>330455705117</td>\n",
       "      <td>Jardim Guanabara</td>\n",
       "      <td>330455705</td>\n",
       "      <td>RIO DE JANEIRO</td>\n",
       "      <td>330455705</td>\n",
       "      <td>ILHA DO GOVERNADOR</td>\n",
       "      <td>3304557</td>\n",
       "      <td>...</td>\n",
       "      <td>3.01</td>\n",
       "      <td>2.03</td>\n",
       "      <td>3197.22</td>\n",
       "      <td>30441095.44</td>\n",
       "      <td>3955.19</td>\n",
       "      <td>34678115.89</td>\n",
       "      <td>2532.07</td>\n",
       "      <td>17394403.77</td>\n",
       "      <td>3603.87</td>\n",
       "      <td>20901128.23</td>\n",
       "    </tr>\n",
       "    <tr>\n",
       "      <th>1</th>\n",
       "      <td>408157</td>\n",
       "      <td>330455705250112</td>\n",
       "      <td>URBANO</td>\n",
       "      <td>330455705117</td>\n",
       "      <td>Jardim Guanabara</td>\n",
       "      <td>330455705</td>\n",
       "      <td>RIO DE JANEIRO</td>\n",
       "      <td>330455705</td>\n",
       "      <td>ILHA DO GOVERNADOR</td>\n",
       "      <td>3304557</td>\n",
       "      <td>...</td>\n",
       "      <td>2.90</td>\n",
       "      <td>2.02</td>\n",
       "      <td>2939.27</td>\n",
       "      <td>11625233.69</td>\n",
       "      <td>4082.31</td>\n",
       "      <td>11478517.02</td>\n",
       "      <td>1868.44</td>\n",
       "      <td>7840859.89</td>\n",
       "      <td>3183.57</td>\n",
       "      <td>9178699.99</td>\n",
       "    </tr>\n",
       "    <tr>\n",
       "      <th>2</th>\n",
       "      <td>408158</td>\n",
       "      <td>330455705250113</td>\n",
       "      <td>URBANO</td>\n",
       "      <td>330455705117</td>\n",
       "      <td>Jardim Guanabara</td>\n",
       "      <td>330455705</td>\n",
       "      <td>RIO DE JANEIRO</td>\n",
       "      <td>330455705</td>\n",
       "      <td>ILHA DO GOVERNADOR</td>\n",
       "      <td>3304557</td>\n",
       "      <td>...</td>\n",
       "      <td>3.21</td>\n",
       "      <td>1.74</td>\n",
       "      <td>4607.17</td>\n",
       "      <td>27747188.04</td>\n",
       "      <td>4825.07</td>\n",
       "      <td>28009914.76</td>\n",
       "      <td>2373.90</td>\n",
       "      <td>15297946.52</td>\n",
       "      <td>3596.82</td>\n",
       "      <td>18791839.98</td>\n",
       "    </tr>\n",
       "    <tr>\n",
       "      <th>3</th>\n",
       "      <td>408149</td>\n",
       "      <td>330455705250104</td>\n",
       "      <td>URBANO</td>\n",
       "      <td>330455705117</td>\n",
       "      <td>Jardim Guanabara</td>\n",
       "      <td>330455705</td>\n",
       "      <td>RIO DE JANEIRO</td>\n",
       "      <td>330455705</td>\n",
       "      <td>ILHA DO GOVERNADOR</td>\n",
       "      <td>3304557</td>\n",
       "      <td>...</td>\n",
       "      <td>2.96</td>\n",
       "      <td>2.11</td>\n",
       "      <td>4514.60</td>\n",
       "      <td>69474357.33</td>\n",
       "      <td>5281.78</td>\n",
       "      <td>77279356.46</td>\n",
       "      <td>2325.76</td>\n",
       "      <td>30455188.88</td>\n",
       "      <td>3839.47</td>\n",
       "      <td>44512674.58</td>\n",
       "    </tr>\n",
       "    <tr>\n",
       "      <th>4</th>\n",
       "      <td>408150</td>\n",
       "      <td>330455705250105</td>\n",
       "      <td>URBANO</td>\n",
       "      <td>330455705117</td>\n",
       "      <td>Jardim Guanabara</td>\n",
       "      <td>330455705</td>\n",
       "      <td>RIO DE JANEIRO</td>\n",
       "      <td>330455705</td>\n",
       "      <td>ILHA DO GOVERNADOR</td>\n",
       "      <td>3304557</td>\n",
       "      <td>...</td>\n",
       "      <td>2.79</td>\n",
       "      <td>1.57</td>\n",
       "      <td>3681.71</td>\n",
       "      <td>10261605.38</td>\n",
       "      <td>3929.35</td>\n",
       "      <td>9977475.56</td>\n",
       "      <td>2365.34</td>\n",
       "      <td>15099508.74</td>\n",
       "      <td>3315.75</td>\n",
       "      <td>18021853.15</td>\n",
       "    </tr>\n",
       "  </tbody>\n",
       "</table>\n",
       "<p>5 rows × 47 columns</p>\n",
       "</div>"
      ],
      "text/plain": [
       "      ID1       CD_GEOCODI    TIPO    CD_GEOCODB         NM_BAIRRO CD_GEOCODD  \\\n",
       "0  408153  330455705250108  URBANO  330455705117  Jardim Guanabara  330455705   \n",
       "1  408157  330455705250112  URBANO  330455705117  Jardim Guanabara  330455705   \n",
       "2  408158  330455705250113  URBANO  330455705117  Jardim Guanabara  330455705   \n",
       "3  408149  330455705250104  URBANO  330455705117  Jardim Guanabara  330455705   \n",
       "4  408150  330455705250105  URBANO  330455705117  Jardim Guanabara  330455705   \n",
       "\n",
       "       NM_DISTRIT CD_GEOCODS          NM_SUBDIST CD_GEOCODM  ...  V003  V004  \\\n",
       "0  RIO DE JANEIRO  330455705  ILHA DO GOVERNADOR    3304557  ...  3.01  2.03   \n",
       "1  RIO DE JANEIRO  330455705  ILHA DO GOVERNADOR    3304557  ...  2.90  2.02   \n",
       "2  RIO DE JANEIRO  330455705  ILHA DO GOVERNADOR    3304557  ...  3.21  1.74   \n",
       "3  RIO DE JANEIRO  330455705  ILHA DO GOVERNADOR    3304557  ...  2.96  2.11   \n",
       "4  RIO DE JANEIRO  330455705  ILHA DO GOVERNADOR    3304557  ...  2.79  1.57   \n",
       "\n",
       "      V005         V006     V007         V008     V009         V010     V011  \\\n",
       "0  3197.22  30441095.44  3955.19  34678115.89  2532.07  17394403.77  3603.87   \n",
       "1  2939.27  11625233.69  4082.31  11478517.02  1868.44   7840859.89  3183.57   \n",
       "2  4607.17  27747188.04  4825.07  28009914.76  2373.90  15297946.52  3596.82   \n",
       "3  4514.60  69474357.33  5281.78  77279356.46  2325.76  30455188.88  3839.47   \n",
       "4  3681.71  10261605.38  3929.35   9977475.56  2365.34  15099508.74  3315.75   \n",
       "\n",
       "          V012  \n",
       "0  20901128.23  \n",
       "1   9178699.99  \n",
       "2  18791839.98  \n",
       "3  44512674.58  \n",
       "4  18021853.15  \n",
       "\n",
       "[5 rows x 47 columns]"
      ]
     },
     "execution_count": 20,
     "metadata": {},
     "output_type": "execute_result"
    }
   ],
   "source": [
    "setor.head()"
   ]
  },
  {
   "cell_type": "code",
   "execution_count": 19,
   "metadata": {},
   "outputs": [
    {
     "data": {
      "text/plain": [
       "Index(['ID1', 'CD_GEOCODI', 'TIPO', 'CD_GEOCODB', 'NM_BAIRRO', 'CD_GEOCODD',\n",
       "       'NM_DISTRIT', 'CD_GEOCODS', 'NM_SUBDIST', 'CD_GEOCODM', 'NM_MUNICIP',\n",
       "       'NM_MESO', 'NM_MICRO', 'geometry', 'Cod_setor', 'Cod_Grandes Regiões',\n",
       "       'Nome_Grande_Regiao', 'Cod_UF', 'Nome_da_UF ', 'Cod_meso',\n",
       "       'Nome_da_meso', 'Cod_micro', 'Nome_da_micro', 'Cod_RM', 'Nome_da_RM',\n",
       "       'Cod_municipio', 'Nome_do_municipio', 'Cod_distrito',\n",
       "       'Nome_do_distrito', 'Cod_subdistrito', 'Nome_do_subdistrito',\n",
       "       'Cod_bairro', 'Nome_do_bairro', 'Situacao_setor', 'Tipo_setor', 'V001',\n",
       "       'V002', 'V003', 'V004', 'V005', 'V006', 'V007', 'V008', 'V009', 'V010',\n",
       "       'V011', 'V012'],\n",
       "      dtype='object')"
      ]
     },
     "execution_count": 19,
     "metadata": {},
     "output_type": "execute_result"
    }
   ],
   "source": [
    "setor.columns"
   ]
  },
  {
   "cell_type": "code",
   "execution_count": 21,
   "metadata": {},
   "outputs": [
    {
     "data": {
      "text/plain": [
       "geopandas.geodataframe.GeoDataFrame"
      ]
     },
     "execution_count": 21,
     "metadata": {},
     "output_type": "execute_result"
    }
   ],
   "source": [
    "type(setor)"
   ]
  },
  {
   "cell_type": "code",
   "execution_count": 22,
   "metadata": {},
   "outputs": [
    {
     "data": {
      "text/plain": [
       "<Projected CRS: PROJCS[\"Transverse_Mercator\",GEOGCS[\"GCS_unknown\", ...>\n",
       "Name: Transverse_Mercator\n",
       "Axis Info [cartesian]:\n",
       "- E[east]: Easting (kilometre)\n",
       "- N[north]: Northing (kilometre)\n",
       "Area of Use:\n",
       "- undefined\n",
       "Coordinate Operation:\n",
       "- name: unnamed\n",
       "- method: Transverse Mercator\n",
       "Datum: Unknown based on GRS80 ellipsoid\n",
       "- Ellipsoid: GRS 1980\n",
       "- Prime Meridian: Greenwich"
      ]
     },
     "execution_count": 22,
     "metadata": {},
     "output_type": "execute_result"
    }
   ],
   "source": [
    "setor.crs"
   ]
  },
  {
   "cell_type": "markdown",
   "metadata": {},
   "source": [
    "# Salvando em um arquivos os tipo de dados"
   ]
  },
  {
   "cell_type": "code",
   "execution_count": 23,
   "metadata": {},
   "outputs": [],
   "source": [
    "setor.to_file('../01.Dados/Mapas/RJ-SETOR/RJ-SETOR.shp')"
   ]
  }
 ],
 "metadata": {
  "kernelspec": {
   "display_name": "Python 3",
   "language": "python",
   "name": "python3"
  },
  "language_info": {
   "codemirror_mode": {
    "name": "ipython",
    "version": 3
   },
   "file_extension": ".py",
   "mimetype": "text/x-python",
   "name": "python",
   "nbconvert_exporter": "python",
   "pygments_lexer": "ipython3",
   "version": "3.8.3"
  }
 },
 "nbformat": 4,
 "nbformat_minor": 4
}
